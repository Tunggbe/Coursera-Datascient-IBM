{
 "cells": [
  {
   "cell_type": "markdown",
   "id": "ac0b0ba7-b1df-4886-b4f9-1971b5660000",
   "metadata": {},
   "source": [
    "# Data Science Tools and Ecosystem\n"
   ]
  },
  {
   "cell_type": "markdown",
   "id": "202fa9e4-eb0e-4f0c-b16b-427422678077",
   "metadata": {},
   "source": [
    "## Author Nguyễn Thanh Tùng"
   ]
  },
  {
   "cell_type": "markdown",
   "id": "96b1d7ee-b6e3-4f11-acc8-64afeafee6b2",
   "metadata": {},
   "source": [
    "In this notebook, Data Science Tools and Ecosystem are summarized.\n"
   ]
  },
  {
   "cell_type": "markdown",
   "id": "eb03603a-49c7-4b1e-8dcc-00c22fdf5157",
   "metadata": {},
   "source": [
    "__Objectives:__ \n",
    "List popular languages for Data Science,\n",
    "Define libraries, datasets and models,\n",
    "Jupiter Notebook and jupiterlab,\n",
    "Github,\n"
   ]
  },
  {
   "cell_type": "markdown",
   "id": "7e601c13-3903-49e8-8c7c-a89684bd2413",
   "metadata": {},
   "source": [
    "Some of the popular languages that Data Scientists use are:\n",
    "Python,\n",
    "R,\n",
    "SQL,\n",
    "C++."
   ]
  },
  {
   "cell_type": "markdown",
   "id": "b07b8565-2f05-41c4-83f3-37046b2aef1c",
   "metadata": {},
   "source": [
    "Some of the commonly used libraries used by Data Scientists include: matplotlib, scikit-learn, ggplot2, Plotly."
   ]
  },
  {
   "cell_type": "markdown",
   "id": "f4a753ee-0203-4b78-819d-fbb48292c19c",
   "metadata": {},
   "source": [
    "\n",
    "|Data Science Tools|\n",
    "|---|\n",
    "|JupiterLab|\n",
    "|Google Colab|\n",
    "|RStudio|"
   ]
  },
  {
   "cell_type": "markdown",
   "id": "2cf8b9bb-4d0e-48f1-8f15-e9e28099b6ef",
   "metadata": {},
   "source": [
    "### Below are a few examples of evaluating arithmetic expressions in Python\n",
    "### 3 * 4\n",
    "### 1 + 2\n",
    "### pow(3,4)"
   ]
  },
  {
   "cell_type": "code",
   "execution_count": 3,
   "id": "7444f570-7630-47a8-921e-f37606a24cfc",
   "metadata": {},
   "outputs": [
    {
     "data": {
      "text/plain": [
       "17"
      ]
     },
     "execution_count": 3,
     "metadata": {},
     "output_type": "execute_result"
    }
   ],
   "source": [
    "# This a simple arithmetic expression to mutiply then add integers\n",
    "(3*4)+5"
   ]
  },
  {
   "cell_type": "code",
   "execution_count": 4,
   "id": "ed0f90a2-60cd-4b90-96b9-e941981c2dbb",
   "metadata": {},
   "outputs": [
    {
     "data": {
      "text/plain": [
       "3.3333333333333335"
      ]
     },
     "execution_count": 4,
     "metadata": {},
     "output_type": "execute_result"
    }
   ],
   "source": [
    "# This will convert 200 minutes to hours by diving by 60\n",
    "200/60"
   ]
  },
  {
   "cell_type": "code",
   "execution_count": null,
   "id": "13c7007c-b8a1-4d67-bc97-cd788684b1de",
   "metadata": {},
   "outputs": [],
   "source": []
  }
 ],
 "metadata": {
  "kernelspec": {
   "display_name": "Python 3 (ipykernel)",
   "language": "python",
   "name": "python3"
  },
  "language_info": {
   "codemirror_mode": {
    "name": "ipython",
    "version": 3
   },
   "file_extension": ".py",
   "mimetype": "text/x-python",
   "name": "python",
   "nbconvert_exporter": "python",
   "pygments_lexer": "ipython3",
   "version": "3.10.9"
  }
 },
 "nbformat": 4,
 "nbformat_minor": 5
}
